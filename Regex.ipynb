{
 "cells": [
  {
   "cell_type": "markdown",
   "metadata": {},
   "source": [
    "### Le backslash en python '\\\\'"
   ]
  },
  {
   "cell_type": "code",
   "execution_count": 2,
   "metadata": {},
   "outputs": [
    {
     "name": "stdout",
     "output_type": "stream",
     "text": [
      "Allez vient ! \n",
      "On est bien bien bien bien bien !\n"
     ]
    }
   ],
   "source": [
    "print(\"Allez vient ! \\nOn est bien bien bien bien bien !\")"
   ]
  },
  {
   "cell_type": "code",
   "execution_count": 3,
   "metadata": {},
   "outputs": [
    {
     "name": "stdout",
     "output_type": "stream",
     "text": [
      "Ceci est \n",
      "un retour à la ligne. \t Ceci est une tabulation\n"
     ]
    }
   ],
   "source": [
    "print(\"Ceci est \\nun retour à la ligne. \\t Ceci est une tabulation\")"
   ]
  },
  {
   "cell_type": "code",
   "execution_count": 5,
   "metadata": {},
   "outputs": [
    {
     "name": "stdout",
     "output_type": "stream",
     "text": [
      "Ceci n'est plus \\nun retour à la ligne. \\t Ni une tabulation\n"
     ]
    }
   ],
   "source": [
    "print(r\"Ceci n'est plus \\nun retour à la ligne. \\t Ni une tabulation\") # r signifie \"raw\"(brut)"
   ]
  },
  {
   "cell_type": "markdown",
   "metadata": {},
   "source": [
    "### Le \\\\ dans regex"
   ]
  },
  {
   "cell_type": "code",
   "execution_count": 2,
   "metadata": {},
   "outputs": [],
   "source": [
    "import re"
   ]
  },
  {
   "cell_type": "code",
   "execution_count": 5,
   "metadata": {},
   "outputs": [
    {
     "name": "stdout",
     "output_type": "stream",
     "text": [
      "All Hail Britannia ! \n",
      "All Hail Lelouch ! \n",
      "1,2,3... départ \n",
      "\n",
      "Voici la liste \n",
      "['.', '.', '.']\n"
     ]
    }
   ],
   "source": [
    "\"\"\"\n",
    ". => Match tous les caractères d'une ligne\n",
    "\"\"\"\n",
    "\n",
    "\n",
    "texte = \"All Hail Britannia ! \\nAll Hail Lelouch ! \\n1,2,3... départ \\n\"\n",
    "print(texte)\n",
    "\n",
    "#findall ressort une liste de tout ce qu'il a trouvé\n",
    "\n",
    "# matches = re.findall('All', texte)\n",
    "# matches = re.findall('.', texte)\n",
    "matches = re.findall('\\.', texte)\n",
    "\n",
    "print(f'Voici la liste \\n{matches}')\n",
    "\n"
   ]
  },
  {
   "cell_type": "code",
   "execution_count": 9,
   "metadata": {},
   "outputs": [
    {
     "name": "stdout",
     "output_type": "stream",
     "text": [
      "All Hail Britannia ! \n",
      "All Hail Lelouch ! \n",
      "1,2,3... départ \n",
      "\n",
      "Voici la liste \n",
      "['1', '2', '3']\n"
     ]
    }
   ],
   "source": [
    "\n",
    "print(texte)\n",
    "\n",
    "# matches = re.findall('d', texte)\n",
    "# print(f'Voici la liste \\n{matches}')\n",
    "\n",
    "matches = re.findall('\\d', texte) # \\d ==[0-9]     \\D == [^0-9] opposé à de \\d\n",
    "print(f'Voici la liste \\n{matches}')\n",
    "\n"
   ]
  },
  {
   "cell_type": "markdown",
   "metadata": {},
   "source": [
    "### La Casse"
   ]
  },
  {
   "cell_type": "code",
   "execution_count": 10,
   "metadata": {},
   "outputs": [
    {
     "name": "stdout",
     "output_type": "stream",
     "text": [
      "Voici la liste \n",
      "['l', 'l', 'a', 'i', 'l', 'r', 'i', 't', 'a', 'n', 'n', 'i', 'a', 'l', 'l', 'a', 'i', 'l', 'e', 'l', 'o', 'u', 'c', 'h', 'd', 'p', 'a', 'r', 't']\n",
      "Voici la liste \n",
      "['A', 'l', 'l', 'H', 'a', 'i', 'l', 'B', 'r', 'i', 't', 'a', 'n', 'n', 'i', 'a', 'A', 'l', 'l', 'H', 'a', 'i', 'l', 'L', 'e', 'l', 'o', 'u', 'c', 'h', 'd', 'p', 'a', 'r', 't']\n"
     ]
    }
   ],
   "source": [
    "matches = re.findall('[a-z]', texte)\n",
    "print(f'Voici la liste \\n{matches}')# la ligne suivante n'est pas imprimée\n",
    "\n",
    "matches = re.findall('[A-z]', texte)\n",
    "print(f'Voici la liste \\n{matches}')# la ligne suivante n'est pas imprimée\n",
    "\n"
   ]
  },
  {
   "cell_type": "markdown",
   "metadata": {},
   "source": [
    "### Regex ^ +"
   ]
  },
  {
   "cell_type": "code",
   "execution_count": 13,
   "metadata": {
    "scrolled": true
   },
   "outputs": [
    {
     "name": "stdout",
     "output_type": "stream",
     "text": [
      "All Hail Britannia ! \n",
      "All Hail Lelouch ! \n",
      "1,2,3... départ \n",
      "\n",
      "Voici la liste \n",
      "['All', 'Hail', 'Britannia', 'All', 'Hail', 'Lelouch', '1', '2', '3', 'départ']\n"
     ]
    }
   ],
   "source": [
    "\"\"\"\n",
    "\n",
    ". => Match tous les caractères d'une ligne\n",
    "^ => Match le début d'une string ou match l'inverse d'une formule\n",
    "\n",
    "Quantificateur (se place à la fin du match)\n",
    "\n",
    "+ => Match 1 ou + elements qui suivent\n",
    "\"\"\"\n",
    "print(texte)\n",
    "\n",
    "#findall ressort une liste de tout ce qu'il a trouvé\n",
    "matches = re.findall('\\w+', texte)\n",
    "print(f'Voici la liste \\n{matches}')\n",
    "\n",
    "\n"
   ]
  },
  {
   "cell_type": "markdown",
   "metadata": {},
   "source": [
    "### Sélection"
   ]
  },
  {
   "cell_type": "code",
   "execution_count": 14,
   "metadata": {},
   "outputs": [
    {
     "data": {
      "text/plain": [
       "['500', '600']"
      ]
     },
     "execution_count": 14,
     "metadata": {},
     "output_type": "execute_result"
    }
   ],
   "source": [
    "texte = \"Argent sur le compte : 500 €  600 €\"\n",
    "\n",
    "matches = re.findall('\\d+',texte)\n",
    "matches"
   ]
  },
  {
   "cell_type": "code",
   "execution_count": 53,
   "metadata": {},
   "outputs": [
    {
     "name": "stdout",
     "output_type": "stream",
     "text": [
      "Voici la liste \n",
      "['500 €', '100,0 $']\n"
     ]
    }
   ],
   "source": [
    "#Objectif => récupérer uniquement l'argent en euros en dollars\n",
    "\n",
    "texte = \"Argent sur le compte : 500 € mais pas trop  \\\n",
    "Argent sur le compte : 100,0 $ Argent sur le compte : 300,0 £ 150 $ \\\n",
    "Argent sur le compte : 54f55fd4f5df \"\n",
    "\n",
    "# => https://regex101.com/r/cJ1wX7/79\n",
    "matches = re.findall(r'le compte : (\\d+,?\\d* [€|$])', texte)\n",
    "print(f'Voici la liste \\n{matches}')"
   ]
  },
  {
   "cell_type": "markdown",
   "metadata": {},
   "source": [
    "**Les pièges de la méthode strip() ? Vs avez déjà utilisé la méthode strip(), celle-ci supp la chaîne de caractères non désirée aux extrémités (lstrip() et rstrip() resp. : left et right).**"
   ]
  },
  {
   "cell_type": "code",
   "execution_count": 13,
   "metadata": {},
   "outputs": [
    {
     "data": {
      "text/plain": [
       "' \\t\\n\\r\\x0b\\x0c'"
      ]
     },
     "execution_count": 13,
     "metadata": {},
     "output_type": "execute_result"
    }
   ],
   "source": [
    "#Voici tout ce qui est considéré comme un whitespace par strip\n",
    "import string\n",
    "string.whitespace"
   ]
  },
  {
   "cell_type": "code",
   "execution_count": 39,
   "metadata": {},
   "outputs": [
    {
     "name": "stdout",
     "output_type": "stream",
     "text": [
      "***\n",
      "test\n"
     ]
    }
   ],
   "source": [
    "#Qu'est-ce qu'un whitespace ? On pense que c'est juste l'espace mais ds Python c plus que ça ! La preuve : \n",
    "# print(\"***\")\n",
    "# print('\\t\\n test ')\n",
    "print(\"***\")\n",
    "print('\\t\\n test '.strip())\n"
   ]
  },
  {
   "cell_type": "code",
   "execution_count": 43,
   "metadata": {},
   "outputs": [
    {
     "data": {
      "text/plain": [
       "'test'"
      ]
     },
     "execution_count": 43,
     "metadata": {},
     "output_type": "execute_result"
    }
   ],
   "source": [
    "'\\t\\n test '.strip()"
   ]
  },
  {
   "cell_type": "code",
   "execution_count": 44,
   "metadata": {
    "scrolled": true
   },
   "outputs": [
    {
     "name": "stdout",
     "output_type": "stream",
     "text": [
      "test_strip]\n",
      "[test_strip\n",
      "test_strip\n"
     ]
    }
   ],
   "source": [
    "print('[test_strip]'.strip('['))  \n",
    "print('[test_strip]'.strip(']'))  \n",
    "print('[test_strip]'.strip('[]')) \n"
   ]
  },
  {
   "cell_type": "code",
   "execution_count": 45,
   "metadata": {},
   "outputs": [
    {
     "data": {
      "text/plain": [
       "'test'"
      ]
     },
     "execution_count": 45,
     "metadata": {},
     "output_type": "execute_result"
    }
   ],
   "source": [
    "# \"* **  * test_strip \".strip('* ') \n",
    "# '**  * test ' # comportement attendu mais faux\n",
    "\"* **  * test \".strip('* ')\n",
    "#'test'  # comportement réel\n",
    "#source : http://sametmax.com/le-piege-de-la-methode-strip-des-chaines-en-python/"
   ]
  },
  {
   "cell_type": "markdown",
   "metadata": {},
   "source": [
    "***\n",
    "## Le module regex"
   ]
  },
  {
   "cell_type": "code",
   "execution_count": 18,
   "metadata": {},
   "outputs": [],
   "source": [
    "import re"
   ]
  },
  {
   "cell_type": "markdown",
   "metadata": {},
   "source": [
    "- Il existe deux manières d’utiliser les regex :\n",
    "    - La première consiste à appeler la fonction avec en 1er paramètre le motif, et en 2è paramètre la chaine à analyser.\n",
    "    - La seconde manière consiste à compiler la regex, et à ensuite utiliser les méthodes de l’objet crée pour analyser une chaine passée en argument. Cette méthode permet d’accélérer le traitement lorsqu’une regex est utilisée plusieurs fois.  "
   ]
  },
  {
   "cell_type": "code",
   "execution_count": 47,
   "metadata": {},
   "outputs": [
    {
     "name": "stdout",
     "output_type": "stream",
     "text": [
      "Si le regex va être utilisé plusieurs fois\n",
      "['1']\n",
      "['2']\n",
      "['3']\n"
     ]
    }
   ],
   "source": [
    "texte = \" Je cherche uniquement des chiffres comme le 1\"\n",
    "texte2 = \" Je cherche uniquement des chiffres comme le 2\"\n",
    "texte3 = \" Je cherche uniquement des chiffres comme le 3\"\n",
    "\n",
    "liste_texte = [texte, texte2, texte3]\n",
    "\n",
    "pattern = '\\d+'\n",
    "\n",
    "# print(\"Si le regex va être utilisé qu'une fois\")\n",
    "# first = re.findall(pattern, texte)\n",
    "# first = re.findall(pattern, texte2)\n",
    "# first = re.findall(pattern, texte3)\n",
    "# print(first)\n",
    "\n",
    "print(\"Si le regex va être utilisé plusieurs fois\")\n",
    "\n",
    "prog = re.compile(pattern)\n",
    "for text in liste_texte:\n",
    "    print(prog.findall(text))\n",
    "    "
   ]
  },
  {
   "cell_type": "markdown",
   "metadata": {},
   "source": [
    "## Greedy vs Lazy"
   ]
  },
  {
   "cell_type": "code",
   "execution_count": 48,
   "metadata": {},
   "outputs": [
    {
     "data": {
      "text/plain": [
       "[\"0 puis un autre 1, ce texte n'apparait plus après 0 et le dernier 1\"]"
      ]
     },
     "execution_count": 48,
     "metadata": {},
     "output_type": "execute_result"
    }
   ],
   "source": [
    "text = \"Voici un 0 puis un autre 1, ce texte n'apparait plus après 0 et le dernier 1\"\n",
    "\n",
    "re.findall('0.*1', text) #greedy => Regex dit : \"prends entre tout les caractères (.) entre '0' et '1' \""
   ]
  },
  {
   "cell_type": "code",
   "execution_count": 49,
   "metadata": {},
   "outputs": [
    {
     "data": {
      "text/plain": [
       "['0 puis un autre 1', '0 et le dernier 1']"
      ]
     },
     "execution_count": 49,
     "metadata": {},
     "output_type": "execute_result"
    }
   ],
   "source": [
    "text = \"Voici un 0 puis un autre 1, encore un 0 et le dernier 1\"\n",
    "\n",
    "re.findall('0.*?1', text) #lazy => remarquez l'ajout du '?'"
   ]
  }
 ],
 "metadata": {
  "kernelspec": {
   "display_name": "Python 3",
   "language": "python",
   "name": "python3"
  },
  "language_info": {
   "codemirror_mode": {
    "name": "ipython",
    "version": 3
   },
   "file_extension": ".py",
   "mimetype": "text/x-python",
   "name": "python",
   "nbconvert_exporter": "python",
   "pygments_lexer": "ipython3",
   "version": "3.7.3"
  }
 },
 "nbformat": 4,
 "nbformat_minor": 2
}
